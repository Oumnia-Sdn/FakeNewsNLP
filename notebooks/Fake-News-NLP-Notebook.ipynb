{
 "cells": [
  {
   "cell_type": "markdown",
   "id": "389a19fa",
   "metadata": {},
   "source": [
    "# Context \n",
    "How will you detect fake news?\n",
    "\n",
    "**Fake news** : A type of yellow journalism, fake news encapsulates pieces of news that may be hoaxes and is generally spread through social media and other online media. This is often done to further or impose certain ideas and is often achieved with political agendas. Such news items may contain false and/or exaggerated claims, and may end up being viralized by algorithms, and users may end up in a filter bubble.\n",
    "\n",
    "This is a project of detecting fake news and making a difference between real and fake news.\n",
    "\n",
    "## Mission \n",
    "Build a model to accurately classify a piece of news as REAL or FAKE."
   ]
  },
  {
   "cell_type": "markdown",
   "id": "97ef7228",
   "metadata": {},
   "source": [
    "## Dataset : \n",
    "The first column identifies the news, the second and third are the title and text, and the fourth column has labels denoting whether the news is REAL or FAKE.\n",
    "\n",
    "The dataset is downloadable [here](https://drive.google.com/file/d/1er9NJTLUA3qnRuyhfzuN0XUsoIC4a-_q/view)"
   ]
  },
  {
   "cell_type": "markdown",
   "id": "d351db30",
   "metadata": {},
   "source": [
    "# Setting environment "
   ]
  },
  {
   "cell_type": "code",
   "execution_count": 1,
   "id": "58a73a65",
   "metadata": {
    "scrolled": true
   },
   "outputs": [
    {
     "name": "stdout",
     "output_type": "stream",
     "text": [
      "Init Plugin\n",
      "Init Graph Optimizer\n",
      "Init Kernel\n"
     ]
    }
   ],
   "source": [
    "#import environment \n",
    "import pandas as pd\n",
    "import numpy as np\n",
    "''' Data visualisation'''\n",
    "import matplotlib.pyplot as plt\n",
    "import seaborn as sns\n",
    "import warnings\n",
    "''' Scikit-Learn'''\n",
    "from sklearn.model_selection import train_test_split\n",
    "from sklearn.preprocessing import StandardScaler, RobustScaler\n",
    "from sklearn.preprocessing import OneHotEncoder\n",
    "from sklearn.model_selection import cross_validate\n",
    "from sklearn.model_selection import GridSearchCV\n",
    "from sklearn.model_selection import RandomizedSearchCV\n",
    "from sklearn import set_config\n",
    "\n",
    "set_config(display='diagram')\n",
    "from sklearn.compose import ColumnTransformer\n",
    "from sklearn.compose import make_column_selector\n",
    "from sklearn.metrics import confusion_matrix\n",
    "''' Imbalanced Classes'''\n",
    "import imblearn\n",
    "from imblearn.over_sampling import SMOTE\n",
    "from imblearn.under_sampling import RandomUnderSampler\n",
    "from imblearn.pipeline import Pipeline\n",
    "''' Tensorflow Keras'''\n",
    "from tensorflow import keras\n",
    "from tensorflow.keras import models\n",
    "from tensorflow.keras import Sequential, layers\n",
    "from tensorflow.keras.callbacks import EarlyStopping\n",
    "from tensorflow.keras import regularizers\n",
    "from tensorflow.keras.optimizers import Adam\n",
    "from tensorflow.keras.optimizers.schedules import ExponentialDecay"
   ]
  },
  {
   "cell_type": "markdown",
   "id": "86bc501f",
   "metadata": {},
   "source": [
    "# loading data & EDA "
   ]
  },
  {
   "cell_type": "code",
   "execution_count": 2,
   "id": "e782fa74",
   "metadata": {
    "scrolled": true
   },
   "outputs": [
    {
     "data": {
      "text/html": [
       "<div>\n",
       "<style scoped>\n",
       "    .dataframe tbody tr th:only-of-type {\n",
       "        vertical-align: middle;\n",
       "    }\n",
       "\n",
       "    .dataframe tbody tr th {\n",
       "        vertical-align: top;\n",
       "    }\n",
       "\n",
       "    .dataframe thead th {\n",
       "        text-align: right;\n",
       "    }\n",
       "</style>\n",
       "<table border=\"1\" class=\"dataframe\">\n",
       "  <thead>\n",
       "    <tr style=\"text-align: right;\">\n",
       "      <th></th>\n",
       "      <th>Unnamed: 0</th>\n",
       "      <th>title</th>\n",
       "      <th>text</th>\n",
       "      <th>label</th>\n",
       "    </tr>\n",
       "  </thead>\n",
       "  <tbody>\n",
       "    <tr>\n",
       "      <th>0</th>\n",
       "      <td>8476</td>\n",
       "      <td>You Can Smell Hillary’s Fear</td>\n",
       "      <td>Daniel Greenfield, a Shillman Journalism Fello...</td>\n",
       "      <td>FAKE</td>\n",
       "    </tr>\n",
       "    <tr>\n",
       "      <th>1</th>\n",
       "      <td>10294</td>\n",
       "      <td>Watch The Exact Moment Paul Ryan Committed Pol...</td>\n",
       "      <td>Google Pinterest Digg Linkedin Reddit Stumbleu...</td>\n",
       "      <td>FAKE</td>\n",
       "    </tr>\n",
       "    <tr>\n",
       "      <th>2</th>\n",
       "      <td>3608</td>\n",
       "      <td>Kerry to go to Paris in gesture of sympathy</td>\n",
       "      <td>U.S. Secretary of State John F. Kerry said Mon...</td>\n",
       "      <td>REAL</td>\n",
       "    </tr>\n",
       "    <tr>\n",
       "      <th>3</th>\n",
       "      <td>10142</td>\n",
       "      <td>Bernie supporters on Twitter erupt in anger ag...</td>\n",
       "      <td>— Kaydee King (@KaydeeKing) November 9, 2016 T...</td>\n",
       "      <td>FAKE</td>\n",
       "    </tr>\n",
       "    <tr>\n",
       "      <th>4</th>\n",
       "      <td>875</td>\n",
       "      <td>The Battle of New York: Why This Primary Matters</td>\n",
       "      <td>It's primary day in New York and front-runners...</td>\n",
       "      <td>REAL</td>\n",
       "    </tr>\n",
       "  </tbody>\n",
       "</table>\n",
       "</div>"
      ],
      "text/plain": [
       "   Unnamed: 0                                              title  \\\n",
       "0        8476                       You Can Smell Hillary’s Fear   \n",
       "1       10294  Watch The Exact Moment Paul Ryan Committed Pol...   \n",
       "2        3608        Kerry to go to Paris in gesture of sympathy   \n",
       "3       10142  Bernie supporters on Twitter erupt in anger ag...   \n",
       "4         875   The Battle of New York: Why This Primary Matters   \n",
       "\n",
       "                                                text label  \n",
       "0  Daniel Greenfield, a Shillman Journalism Fello...  FAKE  \n",
       "1  Google Pinterest Digg Linkedin Reddit Stumbleu...  FAKE  \n",
       "2  U.S. Secretary of State John F. Kerry said Mon...  REAL  \n",
       "3  — Kaydee King (@KaydeeKing) November 9, 2016 T...  FAKE  \n",
       "4  It's primary day in New York and front-runners...  REAL  "
      ]
     },
     "execution_count": 2,
     "metadata": {},
     "output_type": "execute_result"
    }
   ],
   "source": [
    "#load data \n",
    "data = pd.read_csv('../FakeNewsNLP/data/news.csv')\n",
    "data.head()"
   ]
  },
  {
   "cell_type": "code",
   "execution_count": 3,
   "id": "dc32024e",
   "metadata": {
    "scrolled": true
   },
   "outputs": [
    {
     "name": "stdout",
     "output_type": "stream",
     "text": [
      "<class 'pandas.core.frame.DataFrame'>\n",
      "RangeIndex: 6335 entries, 0 to 6334\n",
      "Data columns (total 4 columns):\n",
      " #   Column      Non-Null Count  Dtype \n",
      "---  ------      --------------  ----- \n",
      " 0   Unnamed: 0  6335 non-null   int64 \n",
      " 1   title       6335 non-null   object\n",
      " 2   text        6335 non-null   object\n",
      " 3   label       6335 non-null   object\n",
      "dtypes: int64(1), object(3)\n",
      "memory usage: 198.1+ KB\n"
     ]
    }
   ],
   "source": [
    "# data information\n",
    "data.info()"
   ]
  },
  {
   "cell_type": "code",
   "execution_count": 4,
   "id": "b38256ac",
   "metadata": {
    "scrolled": true
   },
   "outputs": [
    {
     "data": {
      "text/html": [
       "<div>\n",
       "<style scoped>\n",
       "    .dataframe tbody tr th:only-of-type {\n",
       "        vertical-align: middle;\n",
       "    }\n",
       "\n",
       "    .dataframe tbody tr th {\n",
       "        vertical-align: top;\n",
       "    }\n",
       "\n",
       "    .dataframe thead th {\n",
       "        text-align: right;\n",
       "    }\n",
       "</style>\n",
       "<table border=\"1\" class=\"dataframe\">\n",
       "  <thead>\n",
       "    <tr style=\"text-align: right;\">\n",
       "      <th></th>\n",
       "      <th>Unnamed: 0</th>\n",
       "    </tr>\n",
       "  </thead>\n",
       "  <tbody>\n",
       "    <tr>\n",
       "      <th>count</th>\n",
       "      <td>6335.000000</td>\n",
       "    </tr>\n",
       "    <tr>\n",
       "      <th>mean</th>\n",
       "      <td>5280.415627</td>\n",
       "    </tr>\n",
       "    <tr>\n",
       "      <th>std</th>\n",
       "      <td>3038.503953</td>\n",
       "    </tr>\n",
       "    <tr>\n",
       "      <th>min</th>\n",
       "      <td>2.000000</td>\n",
       "    </tr>\n",
       "    <tr>\n",
       "      <th>25%</th>\n",
       "      <td>2674.500000</td>\n",
       "    </tr>\n",
       "    <tr>\n",
       "      <th>50%</th>\n",
       "      <td>5271.000000</td>\n",
       "    </tr>\n",
       "    <tr>\n",
       "      <th>75%</th>\n",
       "      <td>7901.000000</td>\n",
       "    </tr>\n",
       "    <tr>\n",
       "      <th>max</th>\n",
       "      <td>10557.000000</td>\n",
       "    </tr>\n",
       "  </tbody>\n",
       "</table>\n",
       "</div>"
      ],
      "text/plain": [
       "         Unnamed: 0\n",
       "count   6335.000000\n",
       "mean    5280.415627\n",
       "std     3038.503953\n",
       "min        2.000000\n",
       "25%     2674.500000\n",
       "50%     5271.000000\n",
       "75%     7901.000000\n",
       "max    10557.000000"
      ]
     },
     "execution_count": 4,
     "metadata": {},
     "output_type": "execute_result"
    }
   ],
   "source": [
    "#Data description\n",
    "data.describe()"
   ]
  },
  {
   "cell_type": "code",
   "execution_count": 5,
   "id": "1440ede1",
   "metadata": {},
   "outputs": [
    {
     "name": "stdout",
     "output_type": "stream",
     "text": [
      "number of rows before removing duplicates : 6335\n",
      "number of duplicated rows: 0\n",
      "number of rows after removing duplicates : 6335\n"
     ]
    }
   ],
   "source": [
    "#duplicates\n",
    "print('number of rows before removing duplicates :', len(data))\n",
    "duplicates= data.duplicated()\n",
    "print('number of duplicated rows:', duplicates.sum())\n",
    "data.drop_duplicates(inplace=True)\n",
    "print('number of rows after removing duplicates :', len(data))"
   ]
  },
  {
   "cell_type": "code",
   "execution_count": 6,
   "id": "6b1a1e9a",
   "metadata": {
    "scrolled": true
   },
   "outputs": [
    {
     "name": "stdout",
     "output_type": "stream",
     "text": [
      "number of missing values: Unnamed: 0    0\n",
      "title         0\n",
      "text          0\n",
      "label         0\n",
      "dtype: int64\n"
     ]
    }
   ],
   "source": [
    "#missing values\n",
    "print('number of missing values:', data.isnull().sum())"
   ]
  },
  {
   "cell_type": "markdown",
   "id": "6b1588f7",
   "metadata": {},
   "source": [
    "# Features engineering & text mining"
   ]
  },
  {
   "cell_type": "code",
   "execution_count": 7,
   "id": "bb68c7fb",
   "metadata": {},
   "outputs": [
    {
     "name": "stdout",
     "output_type": "stream",
     "text": [
      "Requirement already satisfied: nltk in /Users/oumniasadaouni/.pyenv/versions/3.8.6/envs/pix2pix/lib/python3.8/site-packages (3.7)\n",
      "Requirement already satisfied: tqdm in /Users/oumniasadaouni/.pyenv/versions/3.8.6/envs/pix2pix/lib/python3.8/site-packages (from nltk) (4.62.2)\n",
      "Requirement already satisfied: joblib in /Users/oumniasadaouni/.pyenv/versions/3.8.6/envs/pix2pix/lib/python3.8/site-packages (from nltk) (1.0.1)\n",
      "Requirement already satisfied: click in /Users/oumniasadaouni/.pyenv/versions/3.8.6/envs/pix2pix/lib/python3.8/site-packages (from nltk) (7.1.2)\n",
      "Requirement already satisfied: regex>=2021.8.3 in /Users/oumniasadaouni/.pyenv/versions/3.8.6/envs/pix2pix/lib/python3.8/site-packages (from nltk) (2021.8.28)\n"
     ]
    }
   ],
   "source": [
    "!pip install nltk"
   ]
  },
  {
   "cell_type": "code",
   "execution_count": 8,
   "id": "689fba8a",
   "metadata": {},
   "outputs": [
    {
     "name": "stderr",
     "output_type": "stream",
     "text": [
      "[nltk_data] Downloading package stopwords to\n",
      "[nltk_data]     /Users/oumniasadaouni/nltk_data...\n",
      "[nltk_data]   Package stopwords is already up-to-date!\n"
     ]
    },
    {
     "data": {
      "text/plain": [
       "True"
      ]
     },
     "execution_count": 8,
     "metadata": {},
     "output_type": "execute_result"
    }
   ],
   "source": [
    "import nltk\n",
    "nltk.download('stopwords')"
   ]
  },
  {
   "cell_type": "code",
   "execution_count": 9,
   "id": "99f6df5b",
   "metadata": {},
   "outputs": [
    {
     "name": "stderr",
     "output_type": "stream",
     "text": [
      "[nltk_data] Downloading package punkt to\n",
      "[nltk_data]     /Users/oumniasadaouni/nltk_data...\n",
      "[nltk_data]   Package punkt is already up-to-date!\n"
     ]
    },
    {
     "data": {
      "text/plain": [
       "True"
      ]
     },
     "execution_count": 9,
     "metadata": {},
     "output_type": "execute_result"
    }
   ],
   "source": [
    "nltk.download('punkt')"
   ]
  },
  {
   "cell_type": "code",
   "execution_count": 10,
   "id": "3ea9e840",
   "metadata": {
    "scrolled": true
   },
   "outputs": [],
   "source": [
    "import re\n",
    "from nltk.corpus import stopwords\n",
    "from nltk.tokenize import word_tokenize\n",
    "import string\n",
    "\n",
    "\n",
    "#lowercasing text \n",
    "data['text_proc']= [x.lower() for x in data.text]\n",
    "\n",
    "#Removing punctuation\n",
    "for punctuation in string.punctuation:\n",
    "    data['text_proc']= [x.replace(punctuation, '') for x in data.text_proc]\n",
    "\n",
    "#stopwords & tokenizing\n",
    "stop_words= set(stopwords.words('english'))\n",
    "word_tokens= data.apply(lambda row: word_tokenize(row['text_proc']), axis=1)\n",
    "stop_free= data.text_proc.apply(lambda x: ' '.join([word for word in x.split() if word not in (stop_words)]))\n",
    "data['text_proc']= stop_free\n"
   ]
  },
  {
   "cell_type": "code",
   "execution_count": 11,
   "id": "590515e0",
   "metadata": {
    "scrolled": true
   },
   "outputs": [
    {
     "data": {
      "text/html": [
       "<div>\n",
       "<style scoped>\n",
       "    .dataframe tbody tr th:only-of-type {\n",
       "        vertical-align: middle;\n",
       "    }\n",
       "\n",
       "    .dataframe tbody tr th {\n",
       "        vertical-align: top;\n",
       "    }\n",
       "\n",
       "    .dataframe thead th {\n",
       "        text-align: right;\n",
       "    }\n",
       "</style>\n",
       "<table border=\"1\" class=\"dataframe\">\n",
       "  <thead>\n",
       "    <tr style=\"text-align: right;\">\n",
       "      <th></th>\n",
       "      <th>Unnamed: 0</th>\n",
       "      <th>title</th>\n",
       "      <th>text</th>\n",
       "      <th>label</th>\n",
       "      <th>text_proc</th>\n",
       "    </tr>\n",
       "  </thead>\n",
       "  <tbody>\n",
       "    <tr>\n",
       "      <th>0</th>\n",
       "      <td>8476</td>\n",
       "      <td>You Can Smell Hillary’s Fear</td>\n",
       "      <td>Daniel Greenfield, a Shillman Journalism Fello...</td>\n",
       "      <td>FAKE</td>\n",
       "      <td>daniel greenfield shillman journalism fellow f...</td>\n",
       "    </tr>\n",
       "    <tr>\n",
       "      <th>1</th>\n",
       "      <td>10294</td>\n",
       "      <td>Watch The Exact Moment Paul Ryan Committed Pol...</td>\n",
       "      <td>Google Pinterest Digg Linkedin Reddit Stumbleu...</td>\n",
       "      <td>FAKE</td>\n",
       "      <td>google pinterest digg linkedin reddit stumbleu...</td>\n",
       "    </tr>\n",
       "    <tr>\n",
       "      <th>2</th>\n",
       "      <td>3608</td>\n",
       "      <td>Kerry to go to Paris in gesture of sympathy</td>\n",
       "      <td>U.S. Secretary of State John F. Kerry said Mon...</td>\n",
       "      <td>REAL</td>\n",
       "      <td>us secretary state john f kerry said monday st...</td>\n",
       "    </tr>\n",
       "    <tr>\n",
       "      <th>3</th>\n",
       "      <td>10142</td>\n",
       "      <td>Bernie supporters on Twitter erupt in anger ag...</td>\n",
       "      <td>— Kaydee King (@KaydeeKing) November 9, 2016 T...</td>\n",
       "      <td>FAKE</td>\n",
       "      <td>— kaydee king kaydeeking november 9 2016 lesso...</td>\n",
       "    </tr>\n",
       "    <tr>\n",
       "      <th>4</th>\n",
       "      <td>875</td>\n",
       "      <td>The Battle of New York: Why This Primary Matters</td>\n",
       "      <td>It's primary day in New York and front-runners...</td>\n",
       "      <td>REAL</td>\n",
       "      <td>primary day new york frontrunners hillary clin...</td>\n",
       "    </tr>\n",
       "  </tbody>\n",
       "</table>\n",
       "</div>"
      ],
      "text/plain": [
       "   Unnamed: 0                                              title  \\\n",
       "0        8476                       You Can Smell Hillary’s Fear   \n",
       "1       10294  Watch The Exact Moment Paul Ryan Committed Pol...   \n",
       "2        3608        Kerry to go to Paris in gesture of sympathy   \n",
       "3       10142  Bernie supporters on Twitter erupt in anger ag...   \n",
       "4         875   The Battle of New York: Why This Primary Matters   \n",
       "\n",
       "                                                text label  \\\n",
       "0  Daniel Greenfield, a Shillman Journalism Fello...  FAKE   \n",
       "1  Google Pinterest Digg Linkedin Reddit Stumbleu...  FAKE   \n",
       "2  U.S. Secretary of State John F. Kerry said Mon...  REAL   \n",
       "3  — Kaydee King (@KaydeeKing) November 9, 2016 T...  FAKE   \n",
       "4  It's primary day in New York and front-runners...  REAL   \n",
       "\n",
       "                                           text_proc  \n",
       "0  daniel greenfield shillman journalism fellow f...  \n",
       "1  google pinterest digg linkedin reddit stumbleu...  \n",
       "2  us secretary state john f kerry said monday st...  \n",
       "3  — kaydee king kaydeeking november 9 2016 lesso...  \n",
       "4  primary day new york frontrunners hillary clin...  "
      ]
     },
     "execution_count": 11,
     "metadata": {},
     "output_type": "execute_result"
    }
   ],
   "source": [
    "data.head()"
   ]
  },
  {
   "cell_type": "code",
   "execution_count": 12,
   "id": "45487f08",
   "metadata": {},
   "outputs": [],
   "source": [
    "#stemming\n",
    "from nltk import PorterStemmer\n",
    "\n",
    "stemmer= PorterStemmer()\n",
    "data['text_proc']= [stemmer.stem(s) for s in data.text_proc]"
   ]
  },
  {
   "cell_type": "markdown",
   "id": "f437a445",
   "metadata": {},
   "source": [
    "# model "
   ]
  },
  {
   "cell_type": "code",
   "execution_count": 13,
   "id": "e60046bf",
   "metadata": {},
   "outputs": [],
   "source": [
    "#train text split\n",
    "X= data.text_proc\n",
    "y= data.label\n",
    "X_train, X_test, y_train, y_test= train_test_split(X,y, test_size=0.2,\n",
    "                                                   random_state= 42)"
   ]
  },
  {
   "cell_type": "code",
   "execution_count": 14,
   "id": "41f56c35",
   "metadata": {},
   "outputs": [
    {
     "name": "stdout",
     "output_type": "stream",
     "text": [
      "(5068,) (1267,) (5068,) (1267,)\n"
     ]
    }
   ],
   "source": [
    "# shape of our splits\n",
    "print( X_train.shape, X_test.shape, y_train.shape , y_test.shape)"
   ]
  },
  {
   "cell_type": "code",
   "execution_count": 15,
   "id": "f85cc7d5",
   "metadata": {},
   "outputs": [],
   "source": [
    "#TFidf text Vectorizer\n",
    "from sklearn.feature_extraction.text import TfidfVectorizer\n",
    "\n",
    "tfidf= TfidfVectorizer(max_df=0.7)\n",
    "X_train_tfidf= tfidf.fit_transform(X_train)\n",
    "X_test_tdidf= tfidf.transform(X_test)"
   ]
  },
  {
   "cell_type": "markdown",
   "id": "5b9f31bb",
   "metadata": {},
   "source": [
    "## Naive Bayes"
   ]
  },
  {
   "cell_type": "code",
   "execution_count": 16,
   "id": "0883603f",
   "metadata": {},
   "outputs": [
    {
     "data": {
      "text/plain": [
       "0.8975927387529598"
      ]
     },
     "execution_count": 16,
     "metadata": {},
     "output_type": "execute_result"
    }
   ],
   "source": [
    "# Naive Bayes modelling implementation\n",
    "\n",
    "from sklearn.naive_bayes import MultinomialNB\n",
    "nb_model= MultinomialNB()\n",
    "nb_model.fit(X_train_tfidf, y_train)\n",
    "nb_model.score(X_train_tfidf, y_train)"
   ]
  },
  {
   "cell_type": "code",
   "execution_count": 17,
   "id": "13455337",
   "metadata": {},
   "outputs": [
    {
     "name": "stdout",
     "output_type": "stream",
     "text": [
      "Accuracy NB: 83.35%\n"
     ]
    }
   ],
   "source": [
    "from sklearn.metrics import accuracy_score\n",
    "y_pred = nb_model.predict(X_test_tdidf)\n",
    "score = accuracy_score(y_test,y_pred)\n",
    "print(f'Accuracy NB: {round(score*100,2)}%')"
   ]
  },
  {
   "cell_type": "markdown",
   "id": "00a3e4c9",
   "metadata": {},
   "source": [
    "## Passive Agressive Classifier"
   ]
  },
  {
   "cell_type": "code",
   "execution_count": 18,
   "id": "566df8c7",
   "metadata": {},
   "outputs": [
    {
     "name": "stdout",
     "output_type": "stream",
     "text": [
      "Accuracy PAC: 94.63%\n"
     ]
    }
   ],
   "source": [
    "from sklearn.linear_model import PassiveAggressiveClassifier\n",
    "pac = PassiveAggressiveClassifier()\n",
    "pac.fit(X_train_tfidf, y_train)\n",
    "pac.score(X_train_tfidf, y_train)\n",
    "\n",
    "#accuracy score \n",
    "y_pred = pac.predict(X_test_tdidf)\n",
    "score = accuracy_score(y_test,y_pred)\n",
    "print(f'Accuracy PAC: {round(score*100,2)}%')"
   ]
  },
  {
   "cell_type": "code",
   "execution_count": 19,
   "id": "40a0e252",
   "metadata": {
    "scrolled": true
   },
   "outputs": [
    {
     "data": {
      "text/plain": [
       "array([[597,  31],\n",
       "       [ 37, 602]])"
      ]
     },
     "execution_count": 19,
     "metadata": {},
     "output_type": "execute_result"
    }
   ],
   "source": [
    "confusion_matrix(y_test,y_pred, labels=['FAKE','REAL'])"
   ]
  },
  {
   "cell_type": "markdown",
   "id": "c624d043",
   "metadata": {},
   "source": [
    "## Random Forest Classifier"
   ]
  },
  {
   "cell_type": "code",
   "execution_count": 20,
   "id": "13904d63",
   "metadata": {},
   "outputs": [
    {
     "name": "stdout",
     "output_type": "stream",
     "text": [
      "1.0\n",
      "Accuracy Random Forest: 92.11%\n"
     ]
    }
   ],
   "source": [
    "from sklearn.ensemble import RandomForestClassifier\n",
    "rfc = RandomForestClassifier()\n",
    "rfc.fit(X_train_tfidf, y_train)\n",
    "print(rfc.score(X_train_tfidf, y_train))\n",
    "\n",
    "#accuracy score \n",
    "y_pred = rfc.predict(X_test_tdidf)\n",
    "score = accuracy_score(y_test,y_pred)\n",
    "print(f'Accuracy Random Forest: {round(score*100,2)}%')"
   ]
  },
  {
   "cell_type": "markdown",
   "id": "df4be2ef",
   "metadata": {},
   "source": [
    "# Model tuning & Hyperparameters tuning "
   ]
  },
  {
   "cell_type": "code",
   "execution_count": 21,
   "id": "a43798f1",
   "metadata": {},
   "outputs": [
    {
     "data": {
      "text/plain": [
       "{'C': 1.0,\n",
       " 'average': False,\n",
       " 'class_weight': None,\n",
       " 'early_stopping': False,\n",
       " 'fit_intercept': True,\n",
       " 'loss': 'hinge',\n",
       " 'max_iter': 1000,\n",
       " 'n_iter_no_change': 5,\n",
       " 'n_jobs': None,\n",
       " 'random_state': None,\n",
       " 'shuffle': True,\n",
       " 'tol': 0.001,\n",
       " 'validation_fraction': 0.1,\n",
       " 'verbose': 0,\n",
       " 'warm_start': False}"
      ]
     },
     "execution_count": 21,
     "metadata": {},
     "output_type": "execute_result"
    }
   ],
   "source": [
    "#Pac params\n",
    "pac.get_params()"
   ]
  },
  {
   "cell_type": "code",
   "execution_count": 22,
   "id": "577b17e7",
   "metadata": {},
   "outputs": [
    {
     "name": "stdout",
     "output_type": "stream",
     "text": [
      "Fitting 5 folds for each of 40 candidates, totalling 200 fits\n"
     ]
    },
    {
     "data": {
      "text/html": [
       "<style>#sk-0afae2f1-b1ed-4ec1-983b-8ea57aed6906 {color: black;background-color: white;}#sk-0afae2f1-b1ed-4ec1-983b-8ea57aed6906 pre{padding: 0;}#sk-0afae2f1-b1ed-4ec1-983b-8ea57aed6906 div.sk-toggleable {background-color: white;}#sk-0afae2f1-b1ed-4ec1-983b-8ea57aed6906 label.sk-toggleable__label {cursor: pointer;display: block;width: 100%;margin-bottom: 0;padding: 0.3em;box-sizing: border-box;text-align: center;}#sk-0afae2f1-b1ed-4ec1-983b-8ea57aed6906 label.sk-toggleable__label-arrow:before {content: \"▸\";float: left;margin-right: 0.25em;color: #696969;}#sk-0afae2f1-b1ed-4ec1-983b-8ea57aed6906 label.sk-toggleable__label-arrow:hover:before {color: black;}#sk-0afae2f1-b1ed-4ec1-983b-8ea57aed6906 div.sk-estimator:hover label.sk-toggleable__label-arrow:before {color: black;}#sk-0afae2f1-b1ed-4ec1-983b-8ea57aed6906 div.sk-toggleable__content {max-height: 0;max-width: 0;overflow: hidden;text-align: left;background-color: #f0f8ff;}#sk-0afae2f1-b1ed-4ec1-983b-8ea57aed6906 div.sk-toggleable__content pre {margin: 0.2em;color: black;border-radius: 0.25em;background-color: #f0f8ff;}#sk-0afae2f1-b1ed-4ec1-983b-8ea57aed6906 input.sk-toggleable__control:checked~div.sk-toggleable__content {max-height: 200px;max-width: 100%;overflow: auto;}#sk-0afae2f1-b1ed-4ec1-983b-8ea57aed6906 input.sk-toggleable__control:checked~label.sk-toggleable__label-arrow:before {content: \"▾\";}#sk-0afae2f1-b1ed-4ec1-983b-8ea57aed6906 div.sk-estimator input.sk-toggleable__control:checked~label.sk-toggleable__label {background-color: #d4ebff;}#sk-0afae2f1-b1ed-4ec1-983b-8ea57aed6906 div.sk-label input.sk-toggleable__control:checked~label.sk-toggleable__label {background-color: #d4ebff;}#sk-0afae2f1-b1ed-4ec1-983b-8ea57aed6906 input.sk-hidden--visually {border: 0;clip: rect(1px 1px 1px 1px);clip: rect(1px, 1px, 1px, 1px);height: 1px;margin: -1px;overflow: hidden;padding: 0;position: absolute;width: 1px;}#sk-0afae2f1-b1ed-4ec1-983b-8ea57aed6906 div.sk-estimator {font-family: monospace;background-color: #f0f8ff;border: 1px dotted black;border-radius: 0.25em;box-sizing: border-box;margin-bottom: 0.5em;}#sk-0afae2f1-b1ed-4ec1-983b-8ea57aed6906 div.sk-estimator:hover {background-color: #d4ebff;}#sk-0afae2f1-b1ed-4ec1-983b-8ea57aed6906 div.sk-parallel-item::after {content: \"\";width: 100%;border-bottom: 1px solid gray;flex-grow: 1;}#sk-0afae2f1-b1ed-4ec1-983b-8ea57aed6906 div.sk-label:hover label.sk-toggleable__label {background-color: #d4ebff;}#sk-0afae2f1-b1ed-4ec1-983b-8ea57aed6906 div.sk-serial::before {content: \"\";position: absolute;border-left: 1px solid gray;box-sizing: border-box;top: 2em;bottom: 0;left: 50%;}#sk-0afae2f1-b1ed-4ec1-983b-8ea57aed6906 div.sk-serial {display: flex;flex-direction: column;align-items: center;background-color: white;padding-right: 0.2em;padding-left: 0.2em;}#sk-0afae2f1-b1ed-4ec1-983b-8ea57aed6906 div.sk-item {z-index: 1;}#sk-0afae2f1-b1ed-4ec1-983b-8ea57aed6906 div.sk-parallel {display: flex;align-items: stretch;justify-content: center;background-color: white;}#sk-0afae2f1-b1ed-4ec1-983b-8ea57aed6906 div.sk-parallel::before {content: \"\";position: absolute;border-left: 1px solid gray;box-sizing: border-box;top: 2em;bottom: 0;left: 50%;}#sk-0afae2f1-b1ed-4ec1-983b-8ea57aed6906 div.sk-parallel-item {display: flex;flex-direction: column;position: relative;background-color: white;}#sk-0afae2f1-b1ed-4ec1-983b-8ea57aed6906 div.sk-parallel-item:first-child::after {align-self: flex-end;width: 50%;}#sk-0afae2f1-b1ed-4ec1-983b-8ea57aed6906 div.sk-parallel-item:last-child::after {align-self: flex-start;width: 50%;}#sk-0afae2f1-b1ed-4ec1-983b-8ea57aed6906 div.sk-parallel-item:only-child::after {width: 0;}#sk-0afae2f1-b1ed-4ec1-983b-8ea57aed6906 div.sk-dashed-wrapped {border: 1px dashed gray;margin: 0 0.4em 0.5em 0.4em;box-sizing: border-box;padding-bottom: 0.4em;background-color: white;position: relative;}#sk-0afae2f1-b1ed-4ec1-983b-8ea57aed6906 div.sk-label label {font-family: monospace;font-weight: bold;background-color: white;display: inline-block;line-height: 1.2em;}#sk-0afae2f1-b1ed-4ec1-983b-8ea57aed6906 div.sk-label-container {position: relative;z-index: 2;text-align: center;}#sk-0afae2f1-b1ed-4ec1-983b-8ea57aed6906 div.sk-container {/* jupyter's `normalize.less` sets `[hidden] { display: none; }` but bootstrap.min.css set `[hidden] { display: none !important; }` so we also need the `!important` here to be able to override the default hidden behavior on the sphinx rendered scikit-learn.org. See: https://github.com/scikit-learn/scikit-learn/issues/21755 */display: inline-block !important;position: relative;}#sk-0afae2f1-b1ed-4ec1-983b-8ea57aed6906 div.sk-text-repr-fallback {display: none;}</style><div id=\"sk-0afae2f1-b1ed-4ec1-983b-8ea57aed6906\" class=\"sk-top-container\"><div class=\"sk-text-repr-fallback\"><pre>GridSearchCV(cv=5, estimator=PassiveAggressiveClassifier(), n_jobs=-1,\n",
       "             param_grid={&#x27;C&#x27;: [0.03, 0.1, 1, 10],\n",
       "                         &#x27;loss&#x27;: [&#x27;hinge&#x27;, &#x27;squared_hinge&#x27;],\n",
       "                         &#x27;n_iter_no_change&#x27;: [5, 10, 30, 100, 300]},\n",
       "             scoring=&#x27;accuracy&#x27;, verbose=1)</pre><b>Please rerun this cell to show the HTML repr or trust the notebook.</b></div><div class=\"sk-container\" hidden><div class=\"sk-item sk-dashed-wrapped\"><div class=\"sk-label-container\"><div class=\"sk-label sk-toggleable\"><input class=\"sk-toggleable__control sk-hidden--visually\" id=\"2da12e87-2d3f-487f-b001-ab94d0f806bc\" type=\"checkbox\" ><label for=\"2da12e87-2d3f-487f-b001-ab94d0f806bc\" class=\"sk-toggleable__label sk-toggleable__label-arrow\">GridSearchCV</label><div class=\"sk-toggleable__content\"><pre>GridSearchCV(cv=5, estimator=PassiveAggressiveClassifier(), n_jobs=-1,\n",
       "             param_grid={&#x27;C&#x27;: [0.03, 0.1, 1, 10],\n",
       "                         &#x27;loss&#x27;: [&#x27;hinge&#x27;, &#x27;squared_hinge&#x27;],\n",
       "                         &#x27;n_iter_no_change&#x27;: [5, 10, 30, 100, 300]},\n",
       "             scoring=&#x27;accuracy&#x27;, verbose=1)</pre></div></div></div><div class=\"sk-parallel\"><div class=\"sk-parallel-item\"><div class=\"sk-item\"><div class=\"sk-serial\"><div class=\"sk-item\"><div class=\"sk-estimator sk-toggleable\"><input class=\"sk-toggleable__control sk-hidden--visually\" id=\"26234ba4-5366-40ea-9adf-2986e4ca4d6b\" type=\"checkbox\" ><label for=\"26234ba4-5366-40ea-9adf-2986e4ca4d6b\" class=\"sk-toggleable__label sk-toggleable__label-arrow\">PassiveAggressiveClassifier</label><div class=\"sk-toggleable__content\"><pre>PassiveAggressiveClassifier()</pre></div></div></div></div></div></div></div></div></div></div>"
      ],
      "text/plain": [
       "GridSearchCV(cv=5, estimator=PassiveAggressiveClassifier(), n_jobs=-1,\n",
       "             param_grid={'C': [0.03, 0.1, 1, 10],\n",
       "                         'loss': ['hinge', 'squared_hinge'],\n",
       "                         'n_iter_no_change': [5, 10, 30, 100, 300]},\n",
       "             scoring='accuracy', verbose=1)"
      ]
     },
     "execution_count": 22,
     "metadata": {},
     "output_type": "execute_result"
    }
   ],
   "source": [
    "#Grid search of pac params\n",
    "params= {'C' : [0.03, 0.1, 1, 10 ],\n",
    "        'loss': ['hinge', 'squared_hinge'],\n",
    "        'n_iter_no_change': [5, 10, 30, 100, 300]}\n",
    "\n",
    "search = GridSearchCV(pac, \n",
    "                      param_grid= params,\n",
    "                      n_jobs=-1,\n",
    "                      verbose=1,\n",
    "                      scoring=\"accuracy\",\n",
    "                      refit=True,\n",
    "                      cv=5 \n",
    "                     )\n",
    "\n",
    "search.fit(X_train_tfidf, y_train)"
   ]
  },
  {
   "cell_type": "code",
   "execution_count": 23,
   "id": "034a7ea2",
   "metadata": {},
   "outputs": [
    {
     "name": "stdout",
     "output_type": "stream",
     "text": [
      "best params: {'C': 10, 'loss': 'hinge', 'n_iter_no_change': 10}\n",
      "best score: 0.9394251456898581\n"
     ]
    }
   ],
   "source": [
    "# grid search results\n",
    "print('best params:', search.best_params_)\n",
    "print('best score:', search.best_score_)\n"
   ]
  },
  {
   "cell_type": "code",
   "execution_count": 24,
   "id": "4c6123d0",
   "metadata": {},
   "outputs": [
    {
     "name": "stdout",
     "output_type": "stream",
     "text": [
      "Accuracy best_model: 94.48%\n"
     ]
    }
   ],
   "source": [
    "#scoring best model\n",
    "best_model = search.best_estimator_\n",
    "\n",
    "#accuracy score \n",
    "y_pred = best_model.predict(X_test_tdidf)\n",
    "score = accuracy_score(y_test,y_pred)\n",
    "print(f'Accuracy best_model: {round(score*100,2)}%')"
   ]
  },
  {
   "cell_type": "code",
   "execution_count": 25,
   "id": "292cbeb2",
   "metadata": {},
   "outputs": [
    {
     "data": {
      "text/plain": [
       "array([[596,  32],\n",
       "       [ 38, 601]])"
      ]
     },
     "execution_count": 25,
     "metadata": {},
     "output_type": "execute_result"
    }
   ],
   "source": [
    "from sklearn.metrics import confusion_matrix\n",
    "confusion_matrix(y_test, y_pred, labels=[\"FAKE\", \"REAL\"])"
   ]
  },
  {
   "cell_type": "markdown",
   "id": "90098cb2",
   "metadata": {},
   "source": [
    "With our best model, we have 589 true positives, 587 true negatives, 42 false positives, and 49 false negatives."
   ]
  },
  {
   "cell_type": "markdown",
   "id": "cfb1b303",
   "metadata": {},
   "source": [
    "# Saving model \n"
   ]
  },
  {
   "cell_type": "code",
   "execution_count": 27,
   "id": "5dab2672",
   "metadata": {},
   "outputs": [
    {
     "data": {
      "text/plain": [
       "['PAC_tuned.pkl']"
      ]
     },
     "execution_count": 27,
     "metadata": {},
     "output_type": "execute_result"
    }
   ],
   "source": [
    "import joblib \n",
    "\n",
    "joblib.dump(best_model, filename=\"PAC_tuned.pkl\")"
   ]
  }
 ],
 "metadata": {
  "kernelspec": {
   "display_name": "Python 3 (ipykernel)",
   "language": "python",
   "name": "python3"
  },
  "language_info": {
   "codemirror_mode": {
    "name": "ipython",
    "version": 3
   },
   "file_extension": ".py",
   "mimetype": "text/x-python",
   "name": "python",
   "nbconvert_exporter": "python",
   "pygments_lexer": "ipython3",
   "version": "3.8.6"
  },
  "toc": {
   "base_numbering": 1,
   "nav_menu": {},
   "number_sections": true,
   "sideBar": true,
   "skip_h1_title": false,
   "title_cell": "Table of Contents",
   "title_sidebar": "Contents",
   "toc_cell": false,
   "toc_position": {},
   "toc_section_display": true,
   "toc_window_display": false
  }
 },
 "nbformat": 4,
 "nbformat_minor": 5
}
